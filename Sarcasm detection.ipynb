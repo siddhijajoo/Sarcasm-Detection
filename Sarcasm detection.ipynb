{
 "cells": [
  {
   "cell_type": "code",
   "execution_count": 1,
   "id": "62bdd895-d84c-44f9-822d-09da305403e2",
   "metadata": {},
   "outputs": [
    {
     "name": "stdout",
     "output_type": "stream",
     "text": [
      "Intel MKL WARNING: Support of Intel(R) Streaming SIMD Extensions 4.2 (Intel(R) SSE4.2) enabled only processors has been deprecated. Intel oneAPI Math Kernel Library 2025.0 will require Intel(R) Advanced Vector Extensions (Intel(R) AVX) instructions.\n",
      "Intel MKL WARNING: Support of Intel(R) Streaming SIMD Extensions 4.2 (Intel(R) SSE4.2) enabled only processors has been deprecated. Intel oneAPI Math Kernel Library 2025.0 will require Intel(R) Advanced Vector Extensions (Intel(R) AVX) instructions.\n"
     ]
    }
   ],
   "source": [
    "import pandas as pd\n",
    "import numpy as np\n",
    "from sklearn.feature_extraction.text import CountVectorizer\n",
    "from sklearn.model_selection import train_test_split\n",
    "from sklearn.naive_bayes import BernoulliNB\n"
   ]
  },
  {
   "cell_type": "code",
   "execution_count": 2,
   "id": "de9b4cde-560d-407d-bb10-91a8e5704e67",
   "metadata": {},
   "outputs": [
    {
     "name": "stdout",
     "output_type": "stream",
     "text": [
      "                                            article_link  \\\n",
      "0      https://www.huffingtonpost.com/entry/versace-b...   \n",
      "1      https://www.huffingtonpost.com/entry/roseanne-...   \n",
      "2      https://local.theonion.com/mom-starting-to-fea...   \n",
      "3      https://politics.theonion.com/boehner-just-wan...   \n",
      "4      https://www.huffingtonpost.com/entry/jk-rowlin...   \n",
      "...                                                  ...   \n",
      "26704  https://www.huffingtonpost.com/entry/american-...   \n",
      "26705  https://www.huffingtonpost.com/entry/americas-...   \n",
      "26706  https://www.huffingtonpost.com/entry/reparatio...   \n",
      "26707  https://www.huffingtonpost.com/entry/israeli-b...   \n",
      "26708  https://www.huffingtonpost.com/entry/gourmet-g...   \n",
      "\n",
      "                                                headline  is_sarcastic  \n",
      "0      former versace store clerk sues over secret 'b...             0  \n",
      "1      the 'roseanne' revival catches up to our thorn...             0  \n",
      "2      mom starting to fear son's web series closest ...             1  \n",
      "3      boehner just wants wife to listen, not come up...             1  \n",
      "4      j.k. rowling wishes snape happy birthday in th...             0  \n",
      "...                                                  ...           ...  \n",
      "26704               american politics in moral free-fall             0  \n",
      "26705                            america's best 20 hikes             0  \n",
      "26706                              reparations and obama             0  \n",
      "26707  israeli ban targeting boycott supporters raise...             0  \n",
      "26708                  gourmet gifts for the foodie 2014             0  \n",
      "\n",
      "[26709 rows x 3 columns]\n"
     ]
    }
   ],
   "source": [
    "df = pd.read_json('/Users/DELL/Downloads/Sarcasm.json',lines=True)\n",
    "print(df)"
   ]
  },
  {
   "cell_type": "code",
   "execution_count": 3,
   "id": "9bb7f077-3de5-40fa-a028-12e27effb96d",
   "metadata": {},
   "outputs": [
    {
     "name": "stdout",
     "output_type": "stream",
     "text": [
      "                                        article_link  \\\n",
      "0  https://www.huffingtonpost.com/entry/versace-b...   \n",
      "1  https://www.huffingtonpost.com/entry/roseanne-...   \n",
      "2  https://local.theonion.com/mom-starting-to-fea...   \n",
      "3  https://politics.theonion.com/boehner-just-wan...   \n",
      "4  https://www.huffingtonpost.com/entry/jk-rowlin...   \n",
      "\n",
      "                                            headline is_sarcastic  \n",
      "0  former versace store clerk sues over secret 'b...  Not Sarcasm  \n",
      "1  the 'roseanne' revival catches up to our thorn...  Not Sarcasm  \n",
      "2  mom starting to fear son's web series closest ...      Sarcasm  \n",
      "3  boehner just wants wife to listen, not come up...      Sarcasm  \n",
      "4  j.k. rowling wishes snape happy birthday in th...  Not Sarcasm  \n"
     ]
    }
   ],
   "source": [
    "df['is_sarcastic'] = df['is_sarcastic'].map({0:'Not Sarcasm',1:'Sarcasm'})\n",
    "print(df.head())"
   ]
  },
  {
   "cell_type": "code",
   "execution_count": 4,
   "id": "51c8e603-a837-445c-ab6e-8334f47bb0c3",
   "metadata": {},
   "outputs": [],
   "source": [
    "df = df[['headline','is_sarcastic']]\n",
    "x = np.array(df['headline'])\n",
    "y = np.array(df['is_sarcastic'])\n",
    "\n",
    "cv = CountVectorizer()\n",
    "X = cv.fit_transform(x)\n",
    "x_train, x_test, y_train, y_test = train_test_split(X,y, test_size=0.2, random_state=42)\n"
   ]
  },
  {
   "cell_type": "code",
   "execution_count": 5,
   "id": "edc1bcab-cbae-4b03-9c2b-7358643642e3",
   "metadata": {},
   "outputs": [
    {
     "name": "stdout",
     "output_type": "stream",
     "text": [
      "0.8448146761512542\n"
     ]
    }
   ],
   "source": [
    "model = BernoulliNB()\n",
    "model.fit(x_train,y_train)\n",
    "print(model.score(x_test,y_test))"
   ]
  },
  {
   "cell_type": "code",
   "execution_count": 11,
   "id": "fca32c74-cf68-4699-8226-6be6bec8ec73",
   "metadata": {},
   "outputs": [
    {
     "name": "stdin",
     "output_type": "stream",
     "text": [
      "Enter your text here:  Oh, great! Just what I needed today – another thrilling meeting to discuss the intricacies of office supplies. I can hardly contain my excitement.\n"
     ]
    },
    {
     "name": "stdout",
     "output_type": "stream",
     "text": [
      "['Sarcasm']\n"
     ]
    }
   ],
   "source": [
    "user = input('Enter your text here: ')\n",
    "data = cv.transform([user]).toarray()\n",
    "output = model.predict(data)\n",
    "print(output)"
   ]
  },
  {
   "cell_type": "code",
   "execution_count": null,
   "id": "dd9cda89-2887-44b6-951b-2c59f0379de1",
   "metadata": {},
   "outputs": [],
   "source": []
  }
 ],
 "metadata": {
  "kernelspec": {
   "display_name": "Python 3 (ipykernel)",
   "language": "python",
   "name": "python3"
  },
  "language_info": {
   "codemirror_mode": {
    "name": "ipython",
    "version": 3
   },
   "file_extension": ".py",
   "mimetype": "text/x-python",
   "name": "python",
   "nbconvert_exporter": "python",
   "pygments_lexer": "ipython3",
   "version": "3.9.18"
  }
 },
 "nbformat": 4,
 "nbformat_minor": 5
}
